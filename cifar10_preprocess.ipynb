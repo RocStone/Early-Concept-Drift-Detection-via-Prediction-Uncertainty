{
 "cells": [
  {
   "cell_type": "code",
   "execution_count": 4,
   "metadata": {},
   "outputs": [
    {
     "name": "stdout",
     "output_type": "stream",
     "text": [
      "Downloading https://www.cs.toronto.edu/~kriz/cifar-10-python.tar.gz to ./data/cifar10/cifar-10-python.tar.gz\n"
     ]
    },
    {
     "data": {
      "application/vnd.jupyter.widget-view+json": {
       "model_id": "d46672aae9734d9da637cc4ae2f619ba",
       "version_major": 2,
       "version_minor": 0
      },
      "text/plain": [
       "  0%|          | 0/170498071 [00:00<?, ?it/s]"
      ]
     },
     "metadata": {},
     "output_type": "display_data"
    },
    {
     "name": "stdout",
     "output_type": "stream",
     "text": [
      "Extracting ./data/cifar10/cifar-10-python.tar.gz to ./data/cifar10\n"
     ]
    }
   ],
   "source": [
    "import numpy as np\n",
    "import sys\n",
    "from river.datasets import synth\n",
    "from river import datasets as rd\n",
    "# import pandas as pd\n",
    "import os\n",
    "import torchvision\n",
    "import numpy as np\n",
    "import torch\n",
    "import torchvision.transforms as transforms\n",
    "\n",
    "class Interest():\n",
    "    def __init__(self):\n",
    "        self.current = [0, 1, 2]\n",
    "        self.markov = self.generate_markov_matrix(10)\n",
    "        self.interest_history = [[0, 1, 2]]\n",
    "\n",
    "    def generate_markov_matrix(self, size=10):\n",
    "        matrix = np.random.rand(size, size)\n",
    "        np.fill_diagonal(matrix, matrix.diagonal() + 100)\n",
    "        matrix = matrix / matrix.sum(axis=1)[:, np.newaxis]\n",
    "        return matrix\n",
    "\n",
    "    def one_hot_encode(self, index, size=10):\n",
    "        vector = np.zeros(size)\n",
    "        vector[index] = 1\n",
    "        return vector\n",
    "\n",
    "    def sample_new_interests(self):\n",
    "        new_interests = []\n",
    "        for interest in self.current:\n",
    "            transition_probabilities = np.dot(self.one_hot_encode(interest), self.markov)\n",
    "            new_interest = np.random.choice(range(self.markov.shape[1]), p=transition_probabilities)\n",
    "            new_interests.append(new_interest)\n",
    "        self.current = new_interests\n",
    "        self.interest_history.append(new_interests)\n",
    "        return new_interests\n",
    "\n",
    "\n",
    "path = './data/cifar10'\n",
    "transform = transforms.Compose([\n",
    "    # transforms.ToPILImage(),\n",
    "    # transforms.Resize((224, 224)),\n",
    "    transforms.ToTensor(),\n",
    "    transforms.Normalize((0.4914, 0.4822, 0.4465), (0.2023, 0.1994, 0.2010)),\n",
    "])\n",
    "\n",
    "d1 = torchvision.datasets.CIFAR10(root=path, train=True, download=True, transform=transform)"
   ]
  },
  {
   "cell_type": "code",
   "execution_count": 5,
   "metadata": {},
   "outputs": [
    {
     "name": "stderr",
     "output_type": "stream",
     "text": [
      "100%|██████████| 50000/50000 [00:06<00:00, 7636.13it/s]\n"
     ]
    },
    {
     "name": "stdout",
     "output_type": "stream",
     "text": [
      "tensor(-2879.6172)\n",
      "tensor(12650)\n"
     ]
    }
   ],
   "source": [
    "\n",
    "class_indices = {i: np.where(np.array(d1.targets) == i)[0] for i in range(10)}\n",
    "\n",
    "chunk_size = 500\n",
    "num_classes = 10\n",
    "\n",
    "from tqdm import tqdm\n",
    "x = []\n",
    "for i in tqdm(range(0, len(d1.data))):\n",
    "    x.append(d1.__getitem__(i)[0])\n",
    "\n",
    "\n",
    "new_y = []\n",
    "new_x = []\n",
    "\n",
    "for j in range(len(d1.data) // chunk_size):\n",
    "    chunk_indices = []\n",
    "\n",
    "    # Sample equally from each class's indices\n",
    "    for class_label in class_indices:\n",
    "        selected_indices = np.random.choice(class_indices[class_label], chunk_size // num_classes, replace=False)\n",
    "        chunk_indices.extend(selected_indices)\n",
    "\n",
    "        # Remove selected indices from the class_indices\n",
    "        class_indices[class_label] = [idx for idx in class_indices[class_label] if idx not in selected_indices]\n",
    "        if len(class_indices) == 0:\n",
    "            print(j)\n",
    "    # np.random.shuffle(chunk_indices)\n",
    "\n",
    "    # Create the chunk\n",
    "    y_chunk = [d1.targets[i] for i in chunk_indices]\n",
    "    x_chunk = [x[i] for i in chunk_indices]\n",
    "\n",
    "    new_y.append(y_chunk)\n",
    "    new_x.append(np.stack(x_chunk))\n",
    "\n",
    "\n",
    "y_chunks = np.array(new_y)\n",
    "new_x = np.stack(new_x)\n",
    "new_x = torch.from_numpy(new_x)\n",
    "interest = Interest()\n",
    "\n",
    "new_y = []\n",
    "for y_chunk in y_chunks:\n",
    "    # set label = 1 if label in interest.current\n",
    "    chunk = []\n",
    "    for i, y in enumerate(y_chunk):\n",
    "        if y in interest.current:\n",
    "            chunk.append(1)\n",
    "        else:\n",
    "            chunk.append(0)\n",
    "    new_y.append(torch.tensor(chunk))\n",
    "    interest.sample_new_interests()\n",
    "\n",
    "new_y = torch.stack(new_y)\n",
    "\n",
    "path = './data/cifar10/x.pth'\n",
    "torch.save(new_x, path)\n",
    "new_x = torch.load(path)\n",
    "print(new_x.sum())\n",
    "\n",
    "path = './data/cifar10/y.pth'\n",
    "torch.save(new_y, path)\n",
    "new_y = torch.load(path)\n",
    "print(new_y.sum())\n",
    "\n"
   ]
  },
  {
   "cell_type": "code",
   "execution_count": null,
   "metadata": {},
   "outputs": [],
   "source": []
  }
 ],
 "metadata": {
  "kernelspec": {
   "display_name": "qlib",
   "language": "python",
   "name": "python3"
  },
  "language_info": {
   "codemirror_mode": {
    "name": "ipython",
    "version": 3
   },
   "file_extension": ".py",
   "mimetype": "text/x-python",
   "name": "python",
   "nbconvert_exporter": "python",
   "pygments_lexer": "ipython3",
   "version": "3.8.13"
  }
 },
 "nbformat": 4,
 "nbformat_minor": 2
}
